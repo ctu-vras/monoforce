{
 "cells": [
  {
   "cell_type": "code",
   "id": "initial_id",
   "metadata": {
    "collapsed": true,
    "ExecuteTime": {
     "end_time": "2024-11-11T15:06:22.882358Z",
     "start_time": "2024-11-11T15:06:21.845283Z"
    }
   },
   "source": "import open3d as o3d",
   "outputs": [
    {
     "name": "stdout",
     "output_type": "stream",
     "text": [
      "Jupyter environment detected. Enabling Open3D WebVisualizer.\n",
      "[Open3D INFO] WebRTC GUI backend enabled.\n",
      "[Open3D INFO] WebRTCWindowSystem: HTTP handshake server disabled.\n"
     ]
    }
   ],
   "execution_count": 1
  },
  {
   "cell_type": "code",
   "source": [
    "def draw_mesh(mesh_file):\n",
    "    mesh = o3d.io.read_triangle_mesh(mesh_file)\n",
    "    print(mesh)\n",
    "    # Visualize the mesh\n",
    "    o3d.visualization.draw_geometries([mesh])"
   ],
   "metadata": {
    "collapsed": false,
    "ExecuteTime": {
     "end_time": "2024-11-11T15:06:22.885896Z",
     "start_time": "2024-11-11T15:06:22.883508Z"
    }
   },
   "id": "fa6d11927d27a70c",
   "outputs": [],
   "execution_count": 2
  },
  {
   "cell_type": "code",
   "source": [
    "import os\n",
    "\n",
    "robot = 'marv'\n",
    "husky_mesh_file = f'../config/meshes/{robot}.obj'\n",
    "assert os.path.exists(husky_mesh_file), f\"Mesh file {husky_mesh_file} not found\"\n",
    "\n",
    "draw_mesh(husky_mesh_file)"
   ],
   "metadata": {
    "collapsed": false,
    "ExecuteTime": {
     "end_time": "2024-11-11T15:06:24.686008Z",
     "start_time": "2024-11-11T15:06:22.886520Z"
    }
   },
   "id": "da875210b0c24e0f",
   "outputs": [
    {
     "name": "stdout",
     "output_type": "stream",
     "text": [
      "TriangleMesh with 65482 points and 135572 triangles.\n"
     ]
    }
   ],
   "execution_count": 3
  },
  {
   "cell_type": "code",
   "source": [
    "robot = 'tradr'\n",
    "tradr_mesh_file = f'../config/meshes/{robot}.obj'\n",
    "assert os.path.exists(tradr_mesh_file), f\"Mesh file {tradr_mesh_file} not found\"\n",
    "\n",
    "draw_mesh(tradr_mesh_file)"
   ],
   "metadata": {
    "collapsed": false,
    "ExecuteTime": {
     "end_time": "2024-11-11T15:06:25.775048Z",
     "start_time": "2024-11-11T15:06:24.687244Z"
    }
   },
   "id": "69ad9afdfc5beeb5",
   "outputs": [
    {
     "name": "stdout",
     "output_type": "stream",
     "text": [
      "TriangleMesh with 6158 points and 13445 triangles.\n"
     ]
    }
   ],
   "execution_count": 4
  },
  {
   "cell_type": "code",
   "source": [
    "hysky_mesh = o3d.io.read_triangle_mesh(husky_mesh_file)\n",
    "tradr_mesh = o3d.io.read_triangle_mesh(tradr_mesh_file)\n",
    "\n",
    "# Translate the meshes\n",
    "hysky_mesh.translate([1, 0, 0])\n",
    "tradr_mesh.translate([-1, 0, 0])\n",
    "\n",
    "# Colorize the meshes\n",
    "hysky_mesh.paint_uniform_color([0.9, 0.1, 0.1])\n",
    "tradr_mesh.paint_uniform_color([0.1, 0.1, 0.9])\n",
    "\n",
    "# Visualize the meshes\n",
    "o3d.visualization.draw_geometries([hysky_mesh, tradr_mesh])"
   ],
   "metadata": {
    "collapsed": false,
    "ExecuteTime": {
     "end_time": "2024-11-11T15:06:40.146583Z",
     "start_time": "2024-11-11T15:06:25.777929Z"
    }
   },
   "id": "d7430b6faf07f2ee",
   "outputs": [],
   "execution_count": 5
  }
 ],
 "metadata": {
  "kernelspec": {
   "display_name": "Python 3",
   "language": "python",
   "name": "python3"
  },
  "language_info": {
   "codemirror_mode": {
    "name": "ipython",
    "version": 2
   },
   "file_extension": ".py",
   "mimetype": "text/x-python",
   "name": "python",
   "nbconvert_exporter": "python",
   "pygments_lexer": "ipython2",
   "version": "2.7.6"
  }
 },
 "nbformat": 4,
 "nbformat_minor": 5
}
