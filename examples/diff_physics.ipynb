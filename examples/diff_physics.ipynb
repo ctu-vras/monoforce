{
 "cells": [
  {
   "cell_type": "code",
   "id": "ac9213e657b3f583",
   "metadata": {},
   "source": [
    "# add the path to the source code of the MonoForce package\n",
    "import sys\n",
    "sys.path.append('../')"
   ],
   "outputs": [],
   "execution_count": null
  },
  {
   "cell_type": "code",
   "id": "initial_id",
   "metadata": {},
   "source": [
    "import numpy as np\n",
    "import matplotlib.pyplot as plt\n",
    "import torch"
   ],
   "outputs": [],
   "execution_count": null
  },
  {
   "cell_type": "code",
   "id": "d06b519100c65d81",
   "metadata": {},
   "source": [
    "from monoforce.models.traj_predictor.dphysics import DPhysConfig\n",
    "\n",
    "# rigid body and terrain parameters\n",
    "robot = 'marv'\n",
    "dphys_cfg = DPhysConfig(robot=robot)\n",
    "dphys_cfg.grid_res = 0.1\n",
    "dphys_cfg.d_max = 6.4\n",
    "dphys_cfg.traj_sim_time = 6.0\n",
    "dphys_cfg.dt = 0.01\n",
    "\n",
    "num_trajs = dphys_cfg.n_sim_trajs\n",
    "T = dphys_cfg.traj_sim_time\n",
    "dt = dphys_cfg.dt\n",
    "vel_max = dphys_cfg.vel_max\n",
    "omega_max = dphys_cfg.omega_max\n",
    "device = torch.device('cuda' if torch.cuda.is_available() else 'cpu')"
   ],
   "outputs": [],
   "execution_count": null
  },
  {
   "cell_type": "code",
   "id": "71500234731a1a4d",
   "metadata": {},
   "source": [
    "H, W = int(2 * dphys_cfg.d_max / dphys_cfg.grid_res), int(2 * dphys_cfg.d_max / dphys_cfg.grid_res)\n",
    "x_grid = torch.linspace(-dphys_cfg.d_max, dphys_cfg.d_max, H)\n",
    "y_grid = torch.linspace(-dphys_cfg.d_max, dphys_cfg.d_max, W)\n",
    "x_grid, y_grid = torch.meshgrid(x_grid, y_grid)\n",
    "# gaussian hm\n",
    "z_grid = (1.0 * torch.exp(-1.0 * ((x_grid-0)**2 + (y_grid-4)**2)) +\n",
    "          4.0 * torch.exp(-5.0 * ((x_grid-1)**2 + (y_grid+2)**2)) +\n",
    "          2.0 * torch.exp(-3.0 * ((x_grid+2)**2 + (y_grid+4)**2))\n",
    "          ) / 3.0\n",
    "# # step hm\n",
    "# z_grid = torch.zeros_like(x_grid)\n",
    "# z_grid[int(H/3*2):, :] = 0.4\n",
    "\n",
    "# repeat the heightmap for each robot\n",
    "x_grid = x_grid.repeat(num_trajs, 1, 1)\n",
    "y_grid = y_grid.repeat(num_trajs, 1, 1)\n",
    "z_grid = z_grid.repeat(num_trajs, 1, 1)\n",
    "assert x_grid.shape == (num_trajs, H, W)\n",
    "assert y_grid.shape == (num_trajs, H, W)\n",
    "assert z_grid.shape == (num_trajs, H, W)"
   ],
   "outputs": [],
   "execution_count": null
  },
  {
   "cell_type": "code",
   "id": "869d9fb82bfed22f",
   "metadata": {},
   "source": [
    "from monoforce.models.traj_predictor.dphysics import generate_controls\n",
    "\n",
    "# generate control inputs: linear and angular velocities\n",
    "controls_front, _ = generate_controls(n_trajs=num_trajs // 2,\n",
    "                                      v_range=(vel_max / 2, vel_max), w_range=(-omega_max, omega_max),\n",
    "                                      time_horizon=T, dt=dt)\n",
    "controls_back, _ = generate_controls(n_trajs=num_trajs // 2,\n",
    "                                     v_range=(-vel_max, -vel_max / 2), w_range=(-omega_max, omega_max),\n",
    "                                     time_horizon=T, dt=dt)\n",
    "controls = torch.cat([controls_front, controls_back], dim=0)\n",
    "assert controls.shape == (num_trajs, int(T / dt), 2)\n",
    "\n",
    "print('controls: ', controls.shape)"
   ],
   "outputs": [],
   "execution_count": null
  },
  {
   "cell_type": "code",
   "id": "53f30d678a10bd3c",
   "metadata": {},
   "source": [
    "from monoforce.models.traj_predictor.dphysics import DPhysics\n",
    "\n",
    "# initialize simulator\n",
    "dphysics = DPhysics(dphys_cfg, device=device)"
   ],
   "outputs": [],
   "execution_count": null
  },
  {
   "cell_type": "code",
   "id": "551a5ebae36d4e4",
   "metadata": {
    "collapsed": false
   },
   "source": [
    "# put tensors to device\n",
    "z_grid = z_grid.to(device)\n",
    "controls = controls.to(device)"
   ],
   "outputs": [],
   "execution_count": null
  },
  {
   "cell_type": "code",
   "id": "1bed2158f2d019d9",
   "metadata": {},
   "source": [
    "from time import time\n",
    "\n",
    "# simulate the rigid body dynamics\n",
    "for _ in range(5):\n",
    "    t0 = time()\n",
    "    states, forces = dphysics(z_grid=z_grid, controls=controls)\n",
    "    t1 = time()\n",
    "    Xs, Xds, Rs, Omegas = states\n",
    "    Fs_spring, Fs_friction = forces\n",
    "    print(Xs.shape, Fs_spring.shape)\n",
    "    print(f'Simulation took {(t1-t0):.3f} [sec] on device: {device}')"
   ],
   "outputs": [],
   "execution_count": null
  },
  {
   "cell_type": "code",
   "id": "dc23d753fdcfdd63",
   "metadata": {
    "collapsed": false
   },
   "source": [
    "# compute trajectories costs\n",
    "costs = torch.norm(Fs_spring, dim=-1).std(dim=-1).std(dim=-1)\n",
    "print('costs: ', costs.shape)"
   ],
   "outputs": [],
   "execution_count": null
  },
  {
   "cell_type": "code",
   "id": "eb8c52d69093514f",
   "metadata": {},
   "source": [
    "from monoforce.vis import set_axes_equal\n",
    "from monoforce.utils import normalize\n",
    "\n",
    "# convert costs to trajectory colors\n",
    "costs_norm = np.sqrt(normalize(costs.cpu().numpy()))\n",
    "colors = np.zeros((num_trajs, 3))\n",
    "colors[:, 1] = 1 - costs_norm\n",
    "colors[:, 0] = costs_norm\n",
    "\n",
    "# visualize\n",
    "fig = plt.figure(figsize=(10, 10))\n",
    "ax = fig.add_subplot(111, projection='3d')\n",
    "# plot heightmap\n",
    "ax.plot_surface(x_grid[0].cpu().numpy(), y_grid[0].cpu().numpy(), z_grid[0].cpu().numpy(), alpha=0.6,\n",
    "                cmap='terrain', vmin=0.0, vmax=1.0)\n",
    "set_axes_equal(ax)\n",
    "for i in range(num_trajs):\n",
    "    ax.plot(Xs[i, :, 0].cpu().numpy(), Xs[i, :, 1].cpu().numpy(), Xs[i, :, 2].cpu().numpy(), c=colors[i])\n",
    "ax.set_title(f'Simulation of {num_trajs} trajs (T={T} [sec] long) took {(t1-t0):.3f} [sec] on device: {device}')\n",
    "ax.set_xlabel('X [m]')\n",
    "ax.set_ylabel('Y [m]')\n",
    "ax.set_zlabel('Z [m]')\n",
    "plt.show()"
   ],
   "outputs": [],
   "execution_count": null
  }
 ],
 "metadata": {
  "kernelspec": {
   "display_name": "Python 3 (ipykernel)",
   "language": "python",
   "name": "python3"
  },
  "language_info": {
   "codemirror_mode": {
    "name": "ipython",
    "version": 3
   },
   "file_extension": ".py",
   "mimetype": "text/x-python",
   "name": "python",
   "nbconvert_exporter": "python",
   "pygments_lexer": "ipython3",
   "version": "3.9.18"
  }
 },
 "nbformat": 4,
 "nbformat_minor": 5
}
