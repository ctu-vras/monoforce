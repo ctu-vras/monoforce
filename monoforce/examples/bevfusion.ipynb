{
 "cells": [
  {
   "metadata": {},
   "cell_type": "code",
   "source": [
    "import sys\n",
    "sys.path.append('../src/')\n",
    "import torch\n",
    "from torch.utils.data import DataLoader\n",
    "from monoforce.models.terrain_encoder.bevfusion import BEVFusion\n",
    "from monoforce.utils import read_yaml, position\n",
    "from monoforce.datasets.rough import ROUGH, rough_seq_paths\n",
    "from monoforce.models.traj_predictor.dphys_config import DPhysConfig"
   ],
   "id": "b7a7dacb0d156951",
   "outputs": [],
   "execution_count": null
  },
  {
   "metadata": {},
   "cell_type": "code",
   "source": [
    "class Data(ROUGH):\n",
    "    def __init__(self, path, lss_cfg, dphys_cfg=DPhysConfig(), is_train=True):\n",
    "        super(Data, self).__init__(path, lss_cfg, dphys_cfg=dphys_cfg, is_train=is_train)\n",
    "\n",
    "    def get_sample(self, i):\n",
    "        imgs, rots, trans, intrins, post_rots, post_trans = self.get_images_data(i)\n",
    "        points = torch.as_tensor(position(self.get_cloud(i))).T\n",
    "        return (imgs, rots, trans, intrins, post_rots, post_trans,\n",
    "                points)"
   ],
   "id": "dacf9fbbbc81fec7",
   "outputs": [],
   "execution_count": null
  },
  {
   "metadata": {},
   "cell_type": "code",
   "source": [
    "device = torch.device('cuda' if torch.cuda.is_available() else 'cpu')\n",
    "lss_config = read_yaml('../config/lss_cfg.yaml')\n",
    "ds = Data(path=rough_seq_paths[1], lss_cfg=lss_config)\n",
    "loader = DataLoader(ds, batch_size=4, shuffle=True)\n",
    "print(f'Dataset length: {len(loader.dataset)}')"
   ],
   "id": "c933cedfbdfe2793",
   "outputs": [],
   "execution_count": null
  },
  {
   "metadata": {},
   "cell_type": "code",
   "source": [
    "bevfusion = BEVFusion(grid_conf=lss_config['grid_conf'], data_aug_conf=lss_config['data_aug_conf'])\n",
    "bevfusion.to(device)\n",
    "print(f'Number of BEVFusion model parameters: {sum(p.numel() for p in bevfusion.parameters())}')"
   ],
   "id": "4de039e6b5a84cba",
   "outputs": [],
   "execution_count": null
  },
  {
   "metadata": {},
   "cell_type": "code",
   "source": [
    "batch = next(iter(loader))\n",
    "(imgs, rots, trans, intrins, post_rots, post_trans,\n",
    " points) = batch\n",
    "\n",
    "img_inputs = [imgs, rots, trans, intrins, post_rots, post_trans]\n",
    "img_inputs = [i.to(device) for i in img_inputs]\n",
    "points_input = points.to(device)"
   ],
   "id": "6554c35f69bd0e98",
   "outputs": [],
   "execution_count": null
  },
  {
   "metadata": {},
   "cell_type": "code",
   "source": [
    "with torch.inference_mode():\n",
    "    with torch.no_grad():\n",
    "        out = bevfusion(img_inputs, points_input)\n",
    "        for k, v in out.items():\n",
    "            print(f'{k}: {v.shape}')"
   ],
   "id": "a7c783dfa2de0bd6",
   "outputs": [],
   "execution_count": null
  }
 ],
 "metadata": {
  "kernelspec": {
   "display_name": "Python 3",
   "language": "python",
   "name": "python3"
  },
  "language_info": {
   "codemirror_mode": {
    "name": "ipython",
    "version": 2
   },
   "file_extension": ".py",
   "mimetype": "text/x-python",
   "name": "python",
   "nbconvert_exporter": "python",
   "pygments_lexer": "ipython2",
   "version": "2.7.6"
  }
 },
 "nbformat": 4,
 "nbformat_minor": 5
}
