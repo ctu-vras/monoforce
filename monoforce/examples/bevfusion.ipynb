{
 "cells": [
  {
   "metadata": {
    "ExecuteTime": {
     "end_time": "2024-10-29T20:08:06.379386Z",
     "start_time": "2024-10-29T20:08:03.538684Z"
    }
   },
   "cell_type": "code",
   "source": [
    "import sys\n",
    "sys.path.append('../src/')\n",
    "import torch\n",
    "import numpy as np\n",
    "from torch.utils.data import DataLoader\n",
    "from monoforce.models.terrain_encoder.bevfusion import BEVFusion\n",
    "from monoforce.utils import read_yaml, position\n",
    "from monoforce.datasets.rough import ROUGH, rough_seq_paths\n",
    "from monoforce.dphys_config import DPhysConfig\n",
    "from monoforce.transformations import transform_cloud"
   ],
   "id": "b7a7dacb0d156951",
   "outputs": [
    {
     "name": "stderr",
     "output_type": "stream",
     "text": [
      "/home/ruslan/miniconda3/envs/dl/lib/python3.9/site-packages/torchvision/transforms/transforms.py:329: UserWarning: Argument 'interpolation' of type int is deprecated since 0.13 and will be removed in 0.15. Please use InterpolationMode enum.\n",
      "  warnings.warn(\n"
     ]
    },
    {
     "name": "stdout",
     "output_type": "stream",
     "text": [
      "Jupyter environment detected. Enabling Open3D WebVisualizer.\n",
      "[Open3D INFO] WebRTC GUI backend enabled.\n",
      "[Open3D INFO] WebRTCWindowSystem: HTTP handshake server disabled.\n"
     ]
    }
   ],
   "execution_count": 1
  },
  {
   "metadata": {
    "ExecuteTime": {
     "end_time": "2024-10-29T20:08:27.418093Z",
     "start_time": "2024-10-29T20:08:27.377223Z"
    }
   },
   "cell_type": "code",
   "source": [
    "class Data(ROUGH):\n",
    "    def __init__(self, path, lss_cfg, dphys_cfg=DPhysConfig(), is_train=True):\n",
    "        super(Data, self).__init__(path, lss_cfg, dphys_cfg=dphys_cfg, is_train=is_train)\n",
    "\n",
    "    def get_cloud(self, i, points_source='lidar'):\n",
    "        cloud = self.get_raw_cloud(i)\n",
    "        # move points to robot frame\n",
    "        Tr = self.calib['transformations']['T_base_link__os_sensor']['data']\n",
    "        Tr = np.asarray(Tr, dtype=float).reshape((4, 4))\n",
    "        cloud = transform_cloud(cloud, Tr)\n",
    "        return cloud\n",
    "\n",
    "    def get_sample(self, i):\n",
    "        imgs, rots, trans, intrins, post_rots, post_trans = self.get_images_data(i)\n",
    "        control_ts, controls = self.get_controls(i)\n",
    "        traj_ts, states = self.get_states_traj(i)\n",
    "        Xs, Xds, Rs, Omegas = states\n",
    "        hm_geom = self.get_geom_height_map(i)\n",
    "        hm_terrain = self.get_terrain_height_map(i)\n",
    "        points = torch.as_tensor(position(self.get_cloud(i))).T\n",
    "        return (imgs, rots, trans, intrins, post_rots, post_trans,\n",
    "                hm_geom, hm_terrain,\n",
    "                control_ts, controls,\n",
    "                traj_ts, Xs, Xds, Rs, Omegas,\n",
    "                points)"
   ],
   "id": "dacf9fbbbc81fec7",
   "outputs": [],
   "execution_count": 2
  },
  {
   "metadata": {
    "ExecuteTime": {
     "end_time": "2024-10-29T20:08:44.155603Z",
     "start_time": "2024-10-29T20:08:43.050202Z"
    }
   },
   "cell_type": "code",
   "source": [
    "device = torch.device('cuda' if torch.cuda.is_available() else 'cpu')\n",
    "lss_config = read_yaml('../config/lss_cfg.yaml')\n",
    "ds = Data(path=rough_seq_paths['marv'][0], lss_cfg=lss_config)\n",
    "loader = DataLoader(ds, batch_size=4, shuffle=True)\n",
    "print(f'Dataset length: {len(ds)}')"
   ],
   "id": "c933cedfbdfe2793",
   "outputs": [
    {
     "name": "stdout",
     "output_type": "stream",
     "text": [
      "Dataset length: 532\n"
     ]
    }
   ],
   "execution_count": 3
  },
  {
   "metadata": {
    "ExecuteTime": {
     "end_time": "2024-10-29T20:09:02.521608Z",
     "start_time": "2024-10-29T20:09:01.254594Z"
    }
   },
   "cell_type": "code",
   "source": [
    "bevfusion = BEVFusion(grid_conf=lss_config['grid_conf'], data_aug_conf=lss_config['data_aug_conf'])\n",
    "bevfusion.to(device)\n",
    "print(f'Number of BEVFusion model parameters: {sum(p.numel() for p in bevfusion.parameters())}')"
   ],
   "id": "4de039e6b5a84cba",
   "outputs": [
    {
     "name": "stdout",
     "output_type": "stream",
     "text": [
      "Loaded pretrained weights for efficientnet-b0\n",
      "Number of BEVFusion model parameters: 15091851\n"
     ]
    }
   ],
   "execution_count": 4
  },
  {
   "metadata": {
    "ExecuteTime": {
     "end_time": "2024-10-29T20:09:32.095259Z",
     "start_time": "2024-10-29T20:09:29.297499Z"
    }
   },
   "cell_type": "code",
   "source": [
    "batch = next(iter(loader))\n",
    "(imgs, rots, trans, intrins, post_rots, post_trans,\n",
    " hm_geom, hm_terrain,\n",
    " control_ts, controls,\n",
    " traj_ts, Xs, Xds, Rs, Omegas,\n",
    " points) = batch\n",
    "\n",
    "img_inputs = [imgs, rots, trans, intrins, post_rots, post_trans]\n",
    "img_inputs = [i.to(device) for i in img_inputs]\n",
    "points_input = points.to(device)"
   ],
   "id": "6554c35f69bd0e98",
   "outputs": [],
   "execution_count": 5
  },
  {
   "metadata": {
    "ExecuteTime": {
     "end_time": "2024-10-29T20:09:43.587200Z",
     "start_time": "2024-10-29T20:09:42.580449Z"
    }
   },
   "cell_type": "code",
   "source": [
    "with torch.inference_mode():\n",
    "    with torch.no_grad():\n",
    "        out = bevfusion(img_inputs, points_input)\n",
    "        for k, v in out.items():\n",
    "            print(f'{k}: {v.shape}')"
   ],
   "id": "a7c783dfa2de0bd6",
   "outputs": [
    {
     "name": "stdout",
     "output_type": "stream",
     "text": [
      "geom: torch.Size([4, 1, 128, 128])\n",
      "diff: torch.Size([4, 1, 128, 128])\n",
      "terrain: torch.Size([4, 1, 128, 128])\n",
      "friction: torch.Size([4, 1, 128, 128])\n"
     ]
    }
   ],
   "execution_count": 6
  }
 ],
 "metadata": {
  "kernelspec": {
   "display_name": "Python 3",
   "language": "python",
   "name": "python3"
  },
  "language_info": {
   "codemirror_mode": {
    "name": "ipython",
    "version": 2
   },
   "file_extension": ".py",
   "mimetype": "text/x-python",
   "name": "python",
   "nbconvert_exporter": "python",
   "pygments_lexer": "ipython2",
   "version": "2.7.6"
  }
 },
 "nbformat": 4,
 "nbformat_minor": 5
}
