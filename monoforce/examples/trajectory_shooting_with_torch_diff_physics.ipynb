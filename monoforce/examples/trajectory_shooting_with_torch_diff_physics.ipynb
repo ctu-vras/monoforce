{
 "cells": [
  {
   "cell_type": "code",
   "execution_count": null,
   "id": "initial_id",
   "metadata": {},
   "outputs": [],
   "source": [
    "import numpy as np\n",
    "import matplotlib.pyplot as plt\n",
    "import torch"
   ]
  },
  {
   "cell_type": "code",
   "execution_count": null,
   "id": "d06b519100c65d81",
   "metadata": {},
   "outputs": [],
   "source": [
    "from monoforce.models.dphysics import DPhysConfig\n",
    "\n",
    "# rigid body and terrain parameters\n",
    "dphys_cfg = DPhysConfig()\n",
    "dphys_cfg.grid_res = 0.1\n",
    "dphys_cfg.d_max = 6.4\n",
    "dphys_cfg.traj_sim_time = 6.0\n",
    "dphys_cfg.dt = 0.01\n",
    "\n",
    "num_trajs = dphys_cfg.n_sim_trajs\n",
    "T = dphys_cfg.traj_sim_time\n",
    "dt = dphys_cfg.dt\n",
    "vel_max = dphys_cfg.vel_max\n",
    "omega_max = dphys_cfg.omega_max\n",
    "device = torch.device('cpu')"
   ]
  },
  {
   "cell_type": "code",
   "execution_count": null,
   "id": "71500234731a1a4d",
   "metadata": {},
   "outputs": [],
   "source": [
    "H, W = int(2 * dphys_cfg.d_max / dphys_cfg.grid_res), int(2 * dphys_cfg.d_max / dphys_cfg.grid_res)\n",
    "x_grid = torch.linspace(-dphys_cfg.d_max, dphys_cfg.d_max, H)\n",
    "y_grid = torch.linspace(-dphys_cfg.d_max, dphys_cfg.d_max, W)\n",
    "x_grid, y_grid = torch.meshgrid(x_grid, y_grid)\n",
    "# gaussian hm\n",
    "z_grid = (1.0 * torch.exp(-1.0 * ((x_grid-0)**2 + (y_grid-4)**2)) +\n",
    "          4.0 * torch.exp(-5.0 * ((x_grid-1)**2 + (y_grid+2)**2)) +\n",
    "          2.0 * torch.exp(-3.0 * ((x_grid+2)**2 + (y_grid+4)**2))\n",
    "          ) / 3.0\n",
    "# # step hm\n",
    "# z_grid = torch.zeros_like(x_grid)\n",
    "# z_grid[int(H/3*2):, :] = 0.4\n",
    "\n",
    "# repeat the heightmap for each robot\n",
    "x_grid = x_grid.repeat(num_trajs, 1, 1)\n",
    "y_grid = y_grid.repeat(num_trajs, 1, 1)\n",
    "z_grid = z_grid.repeat(num_trajs, 1, 1)\n",
    "assert x_grid.shape == (num_trajs, H, W)\n",
    "assert y_grid.shape == (num_trajs, H, W)\n",
    "assert z_grid.shape == (num_trajs, H, W)"
   ]
  },
  {
   "cell_type": "code",
   "execution_count": null,
   "id": "ac9ebb328574ad06",
   "metadata": {},
   "outputs": [],
   "source": [
    "def vw_to_track_vel(v, w, r=1.0):\n",
    "    \"\"\"\n",
    "    Convert linear and angular velocities to right and left track velocities\n",
    "    :param v: linear velocity\n",
    "    :param w: angular velocity\n",
    "    :param r: robot radius\n",
    "    \n",
    "    v = (v_r + v_l) / 2\n",
    "    w = (v_r - v_l) / (2 * r)\n",
    "    \n",
    "    :return: right and left track velocities\n",
    "    \"\"\"\n",
    "    v_r = v + r * w\n",
    "    v_l = v - r * w\n",
    "    return v_r, v_l"
   ]
  },
  {
   "cell_type": "code",
   "execution_count": null,
   "id": "869d9fb82bfed22f",
   "metadata": {},
   "outputs": [],
   "source": [
    "# control inputs in m/s and rad/s\n",
    "assert num_trajs % 2 == 0, 'num_trajs must be even'\n",
    "vels_x = torch.cat([-vel_max * torch.ones((num_trajs // 2, int(T / dt))),\n",
    "                    vel_max * torch.ones((num_trajs // 2, int(T / dt)))])\n",
    "omegas_z = torch.cat([torch.linspace(-omega_max, omega_max, num_trajs // 2),\n",
    "                      torch.linspace(-omega_max, omega_max, num_trajs // 2)])\n",
    "assert vels_x.shape == (num_trajs, int(T / dt))\n",
    "assert omegas_z.shape == (num_trajs,)\n",
    "vels = torch.zeros((num_trajs, int(T / dt), 3))\n",
    "vels[:, :, 0] = vels_x\n",
    "omegas = torch.zeros((num_trajs, 3))\n",
    "omegas[:, 2] = omegas_z\n",
    "\n",
    "controls = torch.zeros((num_trajs, int(T / dt), 2))\n",
    "for i in range(num_trajs):\n",
    "    controls[i, :, 0], controls[i, :, 1] = vw_to_track_vel(vels[i, :, 0], omegas[i, 2])\n",
    "controls = torch.as_tensor(controls, dtype=torch.float32, device=device)\n",
    "assert controls.shape == (num_trajs, int(T / dt), 2)\n",
    "\n",
    "print('controls: ', controls.shape)"
   ]
  },
  {
   "cell_type": "code",
   "execution_count": null,
   "id": "53f30d678a10bd3c",
   "metadata": {},
   "outputs": [],
   "source": [
    "from monoforce.models.dphysics import DPhysics\n",
    "\n",
    "# initialize simulator\n",
    "dphysics = DPhysics(dphys_cfg, device=device)"
   ]
  },
  {
   "cell_type": "code",
   "execution_count": null,
   "id": "551a5ebae36d4e4",
   "metadata": {
    "collapsed": false
   },
   "outputs": [],
   "source": [
    "# put tensors to device\n",
    "z_grid = z_grid.to(device)\n",
    "controls = controls.to(device)"
   ]
  },
  {
   "cell_type": "code",
   "execution_count": null,
   "id": "1bed2158f2d019d9",
   "metadata": {},
   "outputs": [],
   "source": [
    "from time import time\n",
    "\n",
    "# simulate the rigid body dynamics\n",
    "t0 = time()\n",
    "states, forces = dphysics(z_grid=z_grid, controls=controls)\n",
    "t1 = time()\n",
    "Xs, Xds, Rs, Omegas, X_points = states\n",
    "Fs_spring, Fs_friction = forces\n",
    "print(Xs.shape, Fs_spring.shape)\n",
    "print(f'Simulation took {(t1-t0):.3f} [sec] on device: {device}')"
   ]
  },
  {
   "cell_type": "code",
   "execution_count": null,
   "id": "dc23d753fdcfdd63",
   "metadata": {
    "collapsed": false
   },
   "outputs": [],
   "source": [
    "# compute trajectories costs\n",
    "costs = torch.norm(Fs_spring, dim=-1).std(dim=-1).std(dim=-1)\n",
    "print('costs: ', costs.shape)"
   ]
  },
  {
   "cell_type": "code",
   "execution_count": null,
   "id": "eb8c52d69093514f",
   "metadata": {},
   "outputs": [],
   "source": [
    "from monoforce.vis import set_axes_equal\n",
    "from monoforce.utils import normalize\n",
    "\n",
    "# convert costs to trajectory colors\n",
    "costs_norm = np.sqrt(normalize(costs.cpu().numpy()))\n",
    "colors = np.zeros((num_trajs, 3))\n",
    "colors[:, 1] = 1 - costs_norm\n",
    "colors[:, 0] = costs_norm\n",
    "\n",
    "# visualize\n",
    "fig = plt.figure(figsize=(10, 10))\n",
    "ax = fig.add_subplot(111, projection='3d')\n",
    "# plot heightmap\n",
    "ax.plot_surface(x_grid[0].cpu().numpy(), y_grid[0].cpu().numpy(), z_grid[0].cpu().numpy(), alpha=0.6,\n",
    "                cmap='terrain', vmin=0.0, vmax=1.0)\n",
    "set_axes_equal(ax)\n",
    "for i in range(num_trajs):\n",
    "    ax.plot(Xs[i, :, 0].cpu().numpy(), Xs[i, :, 1].cpu().numpy(), Xs[i, :, 2].cpu().numpy(), c=colors[i])\n",
    "ax.set_title(f'Simulation of {num_trajs} trajs (T={T} [sec] long) took {(t1-t0):.3f} [sec] on device: {device}')\n",
    "ax.set_xlabel('X [m]')\n",
    "ax.set_ylabel('Y [m]')\n",
    "ax.set_zlabel('Z [m]')\n",
    "plt.show()"
   ]
  }
 ],
 "metadata": {
  "kernelspec": {
   "display_name": "Python 3 (ipykernel)",
   "language": "python",
   "name": "python3"
  },
  "language_info": {
   "codemirror_mode": {
    "name": "ipython",
    "version": 3
   },
   "file_extension": ".py",
   "mimetype": "text/x-python",
   "name": "python",
   "nbconvert_exporter": "python",
   "pygments_lexer": "ipython3",
   "version": "3.9.18"
  }
 },
 "nbformat": 4,
 "nbformat_minor": 5
}
