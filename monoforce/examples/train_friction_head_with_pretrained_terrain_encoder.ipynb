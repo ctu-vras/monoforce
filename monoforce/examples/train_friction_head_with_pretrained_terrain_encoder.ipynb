{
 "cells": [
  {
   "cell_type": "code",
   "id": "36738936ee01286b",
   "metadata": {},
   "source": [
    "# add the path to the source code of the MonoForce package\n",
    "import sys\n",
    "sys.path.append('../src')"
   ],
   "outputs": [],
   "execution_count": null
  },
  {
   "cell_type": "code",
   "id": "initial_id",
   "metadata": {},
   "source": [
    "import os\n",
    "import torch\n",
    "from tqdm import tqdm\n",
    "import matplotlib.pyplot as plt\n",
    "import numpy as np"
   ],
   "outputs": [],
   "execution_count": null
  },
  {
   "cell_type": "code",
   "id": "8baf24f354a83005",
   "metadata": {
    "collapsed": false
   },
   "source": [
    "# Set random seed for reproducibility\n",
    "torch.manual_seed(42)\n",
    "np.random.seed(42)"
   ],
   "outputs": [],
   "execution_count": null
  },
  {
   "cell_type": "code",
   "id": "405ada6a73bdc2dd",
   "metadata": {},
   "source": [
    "# Training parameters\n",
    "batch_size = 16\n",
    "num_epochs = 100\n",
    "lr = 1e-4\n",
    "device = torch.device('cuda' if torch.cuda.is_available() else 'cpu')\n",
    "robot = 'marv'\n",
    "small_data = True\n",
    "vis = True"
   ],
   "outputs": [],
   "execution_count": null
  },
  {
   "cell_type": "code",
   "id": "1ceb9aace3c98c08",
   "metadata": {},
   "source": [
    "from monoforce.models.dphysics import DPhysics\n",
    "from monoforce.dphys_config import DPhysConfig\n",
    "from monoforce.utils import read_yaml\n",
    "\n",
    "# load configs: Differentiable Physics\n",
    "dphys_cfg = DPhysConfig(robot=robot)\n",
    "\n",
    "# load configs: LSS (Terrain Encoder)\n",
    "lss_config_path = '../config/lss_cfg.yaml'\n",
    "assert os.path.isfile(lss_config_path), 'LSS config file %s does not exist' % lss_config_path\n",
    "lss_cfg = read_yaml(lss_config_path)\n",
    "pretrained_model_path = f'../config/weights/lss/lss.pt'"
   ],
   "outputs": [],
   "execution_count": null
  },
  {
   "cell_type": "code",
   "id": "5f44a2836bd6fd7b",
   "metadata": {},
   "source": [
    "# Load Differentiable Physics\n",
    "dphysics = DPhysics(dphys_cfg, device=device)"
   ],
   "outputs": [],
   "execution_count": null
  },
  {
   "cell_type": "code",
   "id": "17291d5057fa46f5",
   "metadata": {},
   "source": [
    "from monoforce.models.terrain_encoder.lss import LiftSplatShoot\n",
    "\n",
    "# Load LSS (Terrain Encoder)\n",
    "lss = LiftSplatShoot(lss_cfg['grid_conf'], lss_cfg['data_aug_conf'], outC=1)\n",
    "lss.from_pretrained(pretrained_model_path)\n",
    "lss.to(device);"
   ],
   "outputs": [],
   "execution_count": null
  },
  {
   "cell_type": "code",
   "id": "3ee443bfa2d1f278",
   "metadata": {},
   "source": [
    "# Load dataset\n",
    "from monoforce.utils import compile_data\n",
    "\n",
    "train_ds, val_ds = compile_data(lss_cfg=lss_cfg,\n",
    "                                dphys_cfg=dphys_cfg,\n",
    "                                small_data=small_data)\n",
    "print('Train dataset:', len(train_ds))\n",
    "print('Validation dataset:', len(val_ds))"
   ],
   "outputs": [],
   "execution_count": null
  },
  {
   "cell_type": "code",
   "id": "302cb4eb76c512b3",
   "metadata": {},
   "source": [
    "# Create dataloaders\n",
    "from torch.utils.data import DataLoader\n",
    "\n",
    "train_dl = DataLoader(train_ds, batch_size=batch_size, shuffle=True)\n",
    "val_dl = DataLoader(val_ds, batch_size=batch_size, shuffle=False)"
   ],
   "outputs": [],
   "execution_count": null
  },
  {
   "cell_type": "code",
   "id": "9ac164f9e7664cdb",
   "metadata": {
    "collapsed": false
   },
   "source": [
    "def monoforce_forward(inputs, lss, dphysics):    \n",
    "    # terrain encoder forward pass\n",
    "    out = lss(*inputs)\n",
    "    height_terrain_pred, friction_pred = out['terrain'], out['friction']\n",
    "    \n",
    "    # predict states with differentiable physics\n",
    "    states_pred, _ = dphysics(z_grid=height_terrain_pred.squeeze(1),\n",
    "                              controls=controls,\n",
    "                              friction=friction_pred.squeeze(1))\n",
    "    \n",
    "    return height_terrain_pred, friction_pred, states_pred"
   ],
   "outputs": [],
   "execution_count": null
  },
  {
   "cell_type": "code",
   "id": "f59e758e3ad57f51",
   "metadata": {},
   "source": [
    "%matplotlib inline\n",
    "from monoforce.models.terrain_encoder.utils import denormalize_img\n",
    "\n",
    "# Training: Friction Head\n",
    "# https://discuss.pytorch.org/t/how-to-train-a-part-of-a-network/8923/2\n",
    "for p in lss.parameters():\n",
    "    p.requires_grad = False\n",
    "for p in lss.bevencode.up_friction.parameters():\n",
    "    p.requires_grad = True\n",
    "optimizer = torch.optim.Adam(lss.bevencode.up_friction.parameters(), lr=lr)\n",
    "\n",
    "# train loop\n",
    "for epoch in range(num_epochs):\n",
    "    # epoch loop\n",
    "    lss = lss.train()\n",
    "    loss_epoch = 0\n",
    "    for batch in tqdm(train_dl, total=len(train_dl)):\n",
    "        batch = [b.to(device) for b in batch]\n",
    "        \n",
    "        # unpack batch\n",
    "        (imgs, rots, trans, intrins, post_rots, post_trans,\n",
    "         hm_geom, hm_terrain,\n",
    "         control_ts, controls,\n",
    "         traj_ts, Xs, Xds, Rs, Omegas) = batch\n",
    "        # monoforce inputs\n",
    "        inputs = [imgs, rots, trans, intrins, post_rots, post_trans]\n",
    "        \n",
    "        # forward pass\n",
    "        height_terrain_pred, friction_pred, states_pred = monoforce_forward(inputs, lss, dphysics)\n",
    "        \n",
    "        # unpack states\n",
    "        Xs_pred, Xds_pred, Rs_pred, Omegas_pred = states_pred\n",
    "\n",
    "        # find the closest timesteps in the trajectory to the ground truth timesteps\n",
    "        ts_ids = torch.argmin(torch.abs(control_ts.unsqueeze(1) - traj_ts.unsqueeze(2)), dim=2)\n",
    "\n",
    "        # compute the loss as the mean squared error between the predicted and ground truth poses\n",
    "        batch_size = Xs.shape[0]\n",
    "        loss = torch.nn.functional.mse_loss(Xs_pred[torch.arange(batch_size).unsqueeze(1), ts_ids], Xs)\n",
    "        \n",
    "        # accumulate loss\n",
    "        loss_epoch += loss.item()\n",
    "\n",
    "        # backpropagate\n",
    "        optimizer.zero_grad()\n",
    "        loss.backward()\n",
    "        optimizer.step()\n",
    "    \n",
    "    # print epoch loss\n",
    "    loss_epoch /= len(train_dl)\n",
    "    print('Train epoch:', epoch, 'Mean loss:', loss_epoch)\n",
    "\n",
    "    # evaluate model and visualize predictions\n",
    "    if vis:\n",
    "        with torch.no_grad():         \n",
    "            # evaluate model\n",
    "            lss = lss.eval()\n",
    "            \n",
    "            # validation data sample\n",
    "            batch_val = next(iter(val_dl))\n",
    "            batch_val = [b.to(device) for b in batch_val]\n",
    "            \n",
    "            # unpack batch\n",
    "            (imgs, rots, trans, intrins, post_rots, post_trans,\n",
    "             hm_geom, hm_terrain,\n",
    "             control_ts, controls,\n",
    "             traj_ts, Xs, Xds, Rs, Omegas) = batch_val\n",
    "            # monoforce inputs\n",
    "            inputs_val = [imgs, rots, trans, intrins, post_rots, post_trans]\n",
    "            \n",
    "            # forward pass\n",
    "            height_terrain_pred, friction_pred, states_pred = monoforce_forward(inputs_val, lss, dphysics)\n",
    "            \n",
    "            # unpack states\n",
    "            Xs_pred, Xds_pred, Rs_pred, Omegas_pred = states_pred\n",
    "            \n",
    "            # find the closest timesteps in the trajectory to the ground truth timesteps\n",
    "            ts_ids = torch.argmin(torch.abs(control_ts.unsqueeze(1) - traj_ts.unsqueeze(2)), dim=2)\n",
    "    \n",
    "            # compute the loss as the mean squared error between the predicted and ground truth poses\n",
    "            batch_size = Xs.shape[0]\n",
    "            loss_val = torch.nn.functional.mse_loss(Xs_pred[torch.arange(batch_size).unsqueeze(1), ts_ids], Xs)\n",
    "            print('Validation sample Loss:', loss_val.item())\n",
    "            \n",
    "            # visualize\n",
    "            plt.figure(figsize=(20, 4))\n",
    "            plt.subplot(1, 5, 1)\n",
    "            plt.imshow(denormalize_img(imgs[0, 0]))\n",
    "            plt.title('Input Image')\n",
    "            plt.axis('off')\n",
    "            \n",
    "            plt.subplot(1, 5, 2)\n",
    "            plt.imshow(height_terrain_pred[0, 0].cpu().numpy().T,  origin='lower', vmin=-1, vmax=1, cmap='jet')\n",
    "            plt.colorbar()\n",
    "            plt.title('Predicted Heightmap')\n",
    "    \n",
    "            plt.subplot(1, 5, 3)\n",
    "            plt.imshow(hm_terrain[0, 0].cpu().numpy().T, origin='lower', vmin=-1, vmax=1, cmap='jet')\n",
    "            plt.colorbar()\n",
    "            plt.title('Ground Truth Heightmap')\n",
    "    \n",
    "            plt.subplot(1, 5, 4)\n",
    "            plt.imshow(friction_pred[0, 0].cpu().numpy().T, origin='lower', vmin=0, vmax=1, cmap='jet')\n",
    "            plt.colorbar()\n",
    "            plt.title('Predicted Friction')\n",
    "    \n",
    "            plt.subplot(1, 4, 4)\n",
    "            plt.plot(Xs[0, :, 0].cpu().numpy(), Xs[0, :, 1].cpu().numpy(), 'r', label='GT poses')\n",
    "            plt.plot(Xs_pred[0, :, 0].cpu().numpy(), Xs_pred[0, :, 1].cpu().numpy(), 'b', label='Pred poses')\n",
    "            plt.grid()\n",
    "            plt.axis('equal')\n",
    "            plt.legend()\n",
    "            plt.title('Trajectory')\n",
    "    \n",
    "            plt.show()"
   ],
   "outputs": [],
   "execution_count": null
  }
 ],
 "metadata": {
  "kernelspec": {
   "display_name": "Python 3 (ipykernel)",
   "language": "python",
   "name": "python3"
  },
  "language_info": {
   "codemirror_mode": {
    "name": "ipython",
    "version": 3
   },
   "file_extension": ".py",
   "mimetype": "text/x-python",
   "name": "python",
   "nbconvert_exporter": "python",
   "pygments_lexer": "ipython3",
   "version": "3.9.18"
  }
 },
 "nbformat": 4,
 "nbformat_minor": 5
}
