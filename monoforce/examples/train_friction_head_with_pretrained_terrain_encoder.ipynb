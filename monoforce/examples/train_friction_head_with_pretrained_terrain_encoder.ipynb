{
 "cells": [
  {
   "cell_type": "code",
   "id": "36738936ee01286b",
   "metadata": {},
   "source": [
    "# add the path to the source code of the MonoForce package\n",
    "import sys\n",
    "sys.path.append('../src')"
   ],
   "outputs": [],
   "execution_count": null
  },
  {
   "cell_type": "code",
   "id": "initial_id",
   "metadata": {},
   "source": [
    "import torch\n",
    "from tqdm import tqdm\n",
    "import matplotlib.pyplot as plt\n",
    "import numpy as np"
   ],
   "outputs": [],
   "execution_count": null
  },
  {
   "cell_type": "code",
   "id": "8baf24f354a83005",
   "metadata": {
    "collapsed": false
   },
   "source": [
    "# Set random seed for reproducibility\n",
    "torch.manual_seed(42)\n",
    "np.random.seed(42)"
   ],
   "outputs": [],
   "execution_count": null
  },
  {
   "cell_type": "code",
   "id": "405ada6a73bdc2dd",
   "metadata": {},
   "source": [
    "# Training parameters\n",
    "num_epochs = 100\n",
    "lr = 1e-4\n",
    "device = torch.device('cuda' if torch.cuda.is_available() else 'cpu')\n",
    "robot = 'marv'\n",
    "traj_sim_time = 1.0\n",
    "small_data = True"
   ],
   "outputs": [],
   "execution_count": null
  },
  {
   "cell_type": "code",
   "id": "1ceb9aace3c98c08",
   "metadata": {},
   "source": [
    "from monoforce.models.dphysics import DPhysics\n",
    "from monoforce.dphys_config import DPhysConfig\n",
    "from monoforce.utils import read_yaml\n",
    "\n",
    "# load configs: Differentiable Physics\n",
    "dphys_cfg = DPhysConfig(robot=robot)\n",
    "dphys_cfg.traj_sim_time = traj_sim_time\n",
    "\n",
    "# load configs: LSS (Terrain Encoder)\n",
    "lss_config_path = '../config/lss_cfg.yaml'\n",
    "lss_cfg = read_yaml(lss_config_path)\n",
    "pretrained_model_path = f'../config/weights/lss/val.pth'"
   ],
   "outputs": [],
   "execution_count": null
  },
  {
   "cell_type": "code",
   "id": "5f44a2836bd6fd7b",
   "metadata": {},
   "source": [
    "# Load Differentiable Physics\n",
    "dphysics = DPhysics(dphys_cfg, device=device)"
   ],
   "outputs": [],
   "execution_count": null
  },
  {
   "cell_type": "code",
   "id": "17291d5057fa46f5",
   "metadata": {},
   "source": [
    "from monoforce.models.terrain_encoder.lss import LiftSplatShoot\n",
    "\n",
    "# Load LSS (Terrain Encoder)\n",
    "lss = LiftSplatShoot(lss_cfg['grid_conf'], lss_cfg['data_aug_conf'], outC=1)\n",
    "lss.from_pretrained(pretrained_model_path)\n",
    "lss.to(device);"
   ],
   "outputs": [],
   "execution_count": null
  },
  {
   "cell_type": "code",
   "id": "3ee443bfa2d1f278",
   "metadata": {},
   "source": [
    "# Load dataset\n",
    "from monoforce.utils import compile_data\n",
    "\n",
    "train_ds, val_ds = compile_data(small_data=small_data, dphys_cfg=dphys_cfg, lss_cfg=lss_cfg)\n",
    "print('Train dataset:', len(train_ds))\n",
    "print('Validation dataset:', len(val_ds))"
   ],
   "outputs": [],
   "execution_count": null
  },
  {
   "cell_type": "code",
   "id": "302cb4eb76c512b3",
   "metadata": {},
   "source": [
    "# Create dataloaders\n",
    "from torch.utils.data import DataLoader\n",
    "\n",
    "train_dl = DataLoader(train_ds, batch_size=1, shuffle=True)\n",
    "val_dl = DataLoader(val_ds, batch_size=1, shuffle=False)"
   ],
   "outputs": [],
   "execution_count": null
  },
  {
   "cell_type": "code",
   "id": "9ac164f9e7664cdb",
   "metadata": {
    "collapsed": false
   },
   "source": [
    "def monoforce_forward(inputs, lss, dphysics):    \n",
    "    # terrain encoder forward pass\n",
    "    out = lss(*inputs)\n",
    "    height_terrain_pred, friction_pred = out['terrain'], out['friction']\n",
    "    \n",
    "    # predict states with differentiable physics\n",
    "    states_pred, _ = dphysics(z_grid=height_terrain_pred.squeeze(1),\n",
    "                              controls=controls,\n",
    "                              friction=friction_pred.squeeze(1))\n",
    "    \n",
    "    return height_terrain_pred, friction_pred, states_pred"
   ],
   "outputs": [],
   "execution_count": null
  },
  {
   "cell_type": "code",
   "outputs": [],
   "source": [
    "# Training: Friction Head\n",
    "# https://discuss.pytorch.org/t/how-to-train-a-part-of-a-network/8923/2\n",
    "lss.eval()\n",
    "for p in lss.parameters():\n",
    "    p.requires_grad = False\n",
    "for p in lss.bevencode.up_friction.parameters():\n",
    "    p.requires_grad = True\n",
    "lss.bevencode.up_friction.train()\n",
    "optimizer = torch.optim.Adam(lss.bevencode.up_friction.parameters(), lr=lr)"
   ],
   "metadata": {
    "collapsed": false
   },
   "id": "d9f21b3987cffa4e",
   "execution_count": null
  },
  {
   "cell_type": "code",
   "id": "f59e758e3ad57f51",
   "metadata": {},
   "source": [
    "%matplotlib inline\n",
    "from monoforce.models.terrain_encoder.utils import denormalize_img\n",
    "\n",
    "# train loop\n",
    "loss_history = []\n",
    "for epoch in tqdm(range(num_epochs)):\n",
    "    # epoch loop\n",
    "    loss_epoch = 0\n",
    "    for batch in train_dl:\n",
    "        batch = [b.to(device) for b in batch]\n",
    "        \n",
    "        # unpack batch\n",
    "        (imgs, rots, trans, intrins, post_rots, post_trans,\n",
    "         hm_geom, hm_terrain,\n",
    "         control_ts, controls,\n",
    "         pose0,\n",
    "         traj_ts, Xs, Xds, Rs, Omegas) = batch\n",
    "        # monoforce inputs\n",
    "        inputs = [imgs, rots, trans, intrins, post_rots, post_trans]\n",
    "        \n",
    "        # forward pass\n",
    "        height_terrain_pred, friction_pred, states_pred = monoforce_forward(inputs, lss, dphysics)\n",
    "        \n",
    "        # unpack states\n",
    "        Xs_pred, Xds_pred, Rs_pred, Omegas_pred = states_pred\n",
    "\n",
    "        # find the closest timesteps in the trajectory to the ground truth timesteps\n",
    "        ts_ids = torch.argmin(torch.abs(control_ts.unsqueeze(1) - traj_ts.unsqueeze(2)), dim=2)\n",
    "\n",
    "        # compute the loss as the mean squared error between the predicted and ground truth poses\n",
    "        batch_size = Xs.shape[0]\n",
    "        loss = torch.nn.functional.mse_loss(Xs_pred[torch.arange(batch_size).unsqueeze(1), ts_ids], Xs)\n",
    "        \n",
    "        # accumulate loss\n",
    "        loss_epoch += loss.item()\n",
    "\n",
    "        # backpropagate\n",
    "        optimizer.zero_grad()\n",
    "        loss.backward()\n",
    "        optimizer.step()\n",
    "    \n",
    "    # print epoch loss\n",
    "    loss_epoch /= len(train_dl)\n",
    "    loss_history.append(loss_epoch)\n",
    "    if epoch % 10 == 0:\n",
    "        print('Train epoch:', epoch, 'Mean loss:', loss_epoch)"
   ],
   "outputs": [],
   "execution_count": null
  },
  {
   "cell_type": "code",
   "outputs": [],
   "source": [
    "# plot loss history\n",
    "plt.plot(loss_history)\n",
    "plt.xlabel('Epoch')\n",
    "plt.ylabel('Mean loss')\n",
    "plt.grid()\n",
    "plt.show()"
   ],
   "metadata": {
    "collapsed": false
   },
   "id": "e75e92a99fe0f4cd",
   "execution_count": null
  },
  {
   "cell_type": "code",
   "outputs": [],
   "source": [
    "# evaluate model and visualize predictions\n",
    "with torch.no_grad():\n",
    "    batch = next(iter(val_dl))\n",
    "    batch = [b.to(device) for b in batch]\n",
    "    \n",
    "    # unpack batch\n",
    "    (imgs, rots, trans, intrins, post_rots, post_trans,\n",
    "     hm_geom, hm_terrain,\n",
    "     control_ts, controls,\n",
    "     pose0,\n",
    "     traj_ts, Xs, Xds, Rs, Omegas) = batch\n",
    "    # monoforce inputs\n",
    "    inputs = [imgs, rots, trans, intrins, post_rots, post_trans]\n",
    "    \n",
    "    # forward pass\n",
    "    height_terrain_pred, friction_pred, states_pred = monoforce_forward(inputs, lss, dphysics)\n",
    "    \n",
    "    # unpack states\n",
    "    Xs_pred, Xds_pred, Rs_pred, Omegas_pred = states_pred\n",
    "\n",
    "    # find the closest timesteps in the trajectory to the ground truth timesteps\n",
    "    ts_ids = torch.argmin(torch.abs(control_ts.unsqueeze(1) - traj_ts.unsqueeze(2)), dim=2)\n",
    "    \n",
    "    # visualize\n",
    "    plt.figure(figsize=(20, 10))\n",
    "    plt.subplot(2, 3, 1)\n",
    "    plt.imshow(denormalize_img(imgs[0, 0]))\n",
    "    plt.title('Input Image')\n",
    "    plt.axis('off')\n",
    "    \n",
    "    plt.subplot(2, 3, 2)\n",
    "    plt.imshow(height_terrain_pred[0, 0].cpu().numpy().T,  origin='lower', vmin=-1, vmax=1, cmap='jet')\n",
    "    plt.colorbar()\n",
    "    plt.title('Predicted Heightmap')\n",
    "\n",
    "    plt.subplot(2, 3, 3)\n",
    "    plt.imshow(hm_terrain[0, 0].cpu().numpy().T, origin='lower', vmin=-1, vmax=1, cmap='jet')\n",
    "    plt.colorbar()\n",
    "    plt.title('Ground Truth Heightmap')\n",
    "\n",
    "    plt.subplot(2, 3, 4)\n",
    "    plt.imshow(friction_pred[0, 0].cpu().numpy().T, origin='lower', vmin=0, vmax=1, cmap='jet')\n",
    "    plt.colorbar()\n",
    "    plt.title('Predicted Friction')\n",
    "\n",
    "    plt.subplot(2, 3, 5)\n",
    "    plt.plot(Xs[0, :, 0].cpu().numpy(), Xs[0, :, 1].cpu().numpy(), 'xr', label='GT poses')\n",
    "    plt.plot(Xs_pred[0, :, 0].cpu().numpy(), Xs_pred[0, :, 1].cpu().numpy(), '.b', label='Pred poses')\n",
    "    plt.grid()\n",
    "    plt.axis('equal')\n",
    "    plt.legend()\n",
    "    plt.title('Trajectories XY')\n",
    "    # plot lines between corresponding points from the ground truth and predicted trajectories (use ts_ids)\n",
    "    for j in range(Xs.shape[1]):\n",
    "        plt.plot([Xs[0, j, 0].cpu().numpy(), Xs_pred[0, ts_ids[0, j], 0].cpu().numpy()],\n",
    "                 [Xs[0, j, 1].cpu().numpy(), Xs_pred[0, ts_ids[0, j], 1].cpu().numpy()], 'g')\n",
    "    \n",
    "    plt.subplot(2, 3, 6)\n",
    "    plt.plot(traj_ts[0].cpu().numpy(), Xs[0, :, 2].cpu().numpy(), 'xr', label='GT poses')\n",
    "    plt.plot(control_ts[0].cpu().numpy(), Xs_pred[0, :, 2].cpu().numpy(), '.b', label='Pred poses')\n",
    "    plt.grid()\n",
    "    plt.ylim(-1, 1)\n",
    "    plt.legend()\n",
    "    plt.title('Trajectories Z')\n",
    "\n",
    "    plt.show()"
   ],
   "metadata": {
    "collapsed": false
   },
   "id": "9fc942b2691b290a",
   "execution_count": null
  }
 ],
 "metadata": {
  "kernelspec": {
   "display_name": "Python 3 (ipykernel)",
   "language": "python",
   "name": "python3"
  },
  "language_info": {
   "codemirror_mode": {
    "name": "ipython",
    "version": 3
   },
   "file_extension": ".py",
   "mimetype": "text/x-python",
   "name": "python",
   "nbconvert_exporter": "python",
   "pygments_lexer": "ipython3",
   "version": "3.9.18"
  }
 },
 "nbformat": 4,
 "nbformat_minor": 5
}
