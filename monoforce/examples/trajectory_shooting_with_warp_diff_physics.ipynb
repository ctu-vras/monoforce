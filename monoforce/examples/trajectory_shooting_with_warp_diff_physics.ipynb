{
 "cells": [
  {
   "cell_type": "code",
   "execution_count": null,
   "id": "initial_id",
   "metadata": {},
   "outputs": [],
   "source": [
    "import numpy as np\n",
    "import matplotlib.pyplot as plt\n",
    "import warp as wp\n",
    "import torch"
   ]
  },
  {
   "cell_type": "code",
   "execution_count": null,
   "id": "f396ecf3c126385c",
   "metadata": {},
   "outputs": [],
   "source": [
    "# intialize warp\n",
    "wp.init()"
   ]
  },
  {
   "cell_type": "markdown",
   "id": "98d8f8a4cc9989b3",
   "metadata": {},
   "source": []
  },
  {
   "cell_type": "code",
   "execution_count": null,
   "id": "d06b519100c65d81",
   "metadata": {},
   "outputs": [],
   "source": [
    "num_trajs = 100  # number of simulated trajectories (in parallel)\n",
    "dt = 0.001  # simulation timestep\n",
    "T = int(10.0 / dt)  # number of simulation timesteps to perform\n",
    "device = \"cuda\" if torch.cuda.is_available() else \"cpu\"\n",
    "grid_res = 0.1"
   ]
  },
  {
   "cell_type": "code",
   "execution_count": null,
   "id": "71500234731a1a4d",
   "metadata": {},
   "outputs": [],
   "source": [
    "# gaussian hm\n",
    "x = np.linspace(-6.4, 6.4, 128)\n",
    "y = np.linspace(-6.4, 6.4, 128)\n",
    "X, Y = np.meshgrid(x, y)\n",
    "hm = (1.0 * np.exp(-1.0 * ((X-0)**2 + (Y-4)**2)) +\n",
    "      4.0 * np.exp(-5.0 * ((X-1)**2 + (Y+2)**2)) +\n",
    "      2.0 * np.exp(-3.0 * ((X+2)**2 + (Y+4)**2))\n",
    "      ) / 3.0"
   ]
  },
  {
   "cell_type": "code",
   "execution_count": null,
   "id": "ac9ebb328574ad06",
   "metadata": {},
   "outputs": [],
   "source": [
    "def vw_to_track_vel(v, w, r=1.0):\n",
    "    # v: linear velocity, w: angular velocity, r: robot radius\n",
    "    # v = (v_r + v_l) / 2\n",
    "    # w = (v_r - v_l) / (2 * r)\n",
    "    v_r = v + r * w\n",
    "    v_l = v - r * w\n",
    "    return v_r, v_l"
   ]
  },
  {
   "cell_type": "code",
   "execution_count": null,
   "id": "869d9fb82bfed22f",
   "metadata": {},
   "outputs": [],
   "source": [
    "np_hms = [hm for _ in range(num_trajs)]\n",
    "res = [grid_res for _ in range(num_trajs)]\n",
    "\n",
    "num_trajs = num_trajs + 1 if num_trajs % 2 == 1 else num_trajs\n",
    "assert num_trajs % 2 == 0, 'num_trajs must be even'\n",
    "vel_max, omega_max = 0.5, 0.5\n",
    "vels = np.concatenate([-vel_max * np.ones((num_trajs // 2, T)), vel_max * np.ones((num_trajs // 2, T))])\n",
    "omegas = np.concatenate([np.linspace(-omega_max, omega_max, num_trajs // 2),\n",
    "                         np.linspace(-omega_max, omega_max, num_trajs // 2)])\n",
    "\n",
    "track_vels = np.zeros((num_trajs, T, 2))\n",
    "for i in range(num_trajs):\n",
    "    track_vels[i, :, 0], track_vels[i, :, 1] = vw_to_track_vel(vels[i], omegas[i])\n",
    "flipper_angles = np.zeros((num_trajs, T, 4))\n",
    "# flipper_angles[0, :, 0] = 0.5"
   ]
  },
  {
   "cell_type": "code",
   "execution_count": null,
   "id": "53f30d678a10bd3c",
   "metadata": {},
   "outputs": [],
   "source": [
    "from monoforce.models.dphysics_warp import DiffSim\n",
    "\n",
    "simulator = DiffSim(np_hms, res, T, use_renderer=False, device=device)\n",
    "simulator.set_control(track_vels, flipper_angles)"
   ]
  },
  {
   "cell_type": "code",
   "execution_count": null,
   "id": "1bed2158f2d019d9",
   "metadata": {},
   "outputs": [],
   "source": [
    "from time import time\n",
    "\n",
    "start = time()\n",
    "body_q = simulator.simulate(render=False, use_graph=True if device == 'cuda' else False)\n",
    "print('simulation took ', time() - start, ' s')\n",
    "body_q_np = body_q.numpy()\n",
    "forces_np = simulator.body_f.numpy()\n",
    "print('body_q: ', body_q_np.shape)\n",
    "print('forces: ', forces_np.shape)\n",
    "assert body_q_np.shape == (T + 1, num_trajs, 7)\n",
    "assert forces_np.shape == (T, num_trajs, 6)"
   ]
  },
  {
   "cell_type": "code",
   "execution_count": null,
   "id": "f7d5556c0d751fef",
   "metadata": {},
   "outputs": [],
   "source": [
    "# path with the smallest cost\n",
    "# costs = np.linalg.norm(forces_np[..., :3], axis=-1).sum(axis=0)\n",
    "costs = np.linalg.norm(forces_np[..., :3], axis=-1).sum(axis=0) + np.linalg.norm(forces_np[..., :3], axis=-1).std(axis=0)\n",
    "path_lengths = np.sum(np.linalg.norm(np.diff(body_q_np[..., :3], axis=0), axis=2), axis=0)\n",
    "assert costs.shape == (num_trajs,)\n",
    "assert path_lengths.shape == (num_trajs,)\n",
    "best_robot = np.argmin(costs)\n",
    "num_trajs = body_q_np.shape[1]"
   ]
  },
  {
   "cell_type": "code",
   "execution_count": null,
   "id": "eb8c52d69093514f",
   "metadata": {},
   "outputs": [],
   "source": [
    "from monoforce.utils import normalize\n",
    "from mpl_toolkits.mplot3d import Axes3D\n",
    "from monoforce.vis import set_axes_equal\n",
    "\n",
    "# show height map as a surface and best trajectory in 3D\n",
    "fig = plt.figure(figsize=(10, 10))\n",
    "ax = fig.add_subplot(111, projection='3d')\n",
    "hm_w, hm_h = hm.shape\n",
    "X = np.linspace(-hm_w / 2. * grid_res, hm_w / 2. * grid_res, hm_w)\n",
    "Y = np.linspace(-hm_h / 2. * grid_res, hm_h / 2. * grid_res, hm_h)\n",
    "X, Y = np.meshgrid(X, Y)\n",
    "ax.plot_surface(X, Y, hm.T, cmap='jet', alpha=0.4)\n",
    "set_axes_equal(ax)\n",
    "costs_norm = np.sqrt(normalize(costs))\n",
    "colors = np.zeros((num_trajs, 3))\n",
    "colors[:, 1] = 1 - costs_norm\n",
    "colors[:, 0] = costs_norm\n",
    "for i in range(num_trajs):\n",
    "    marker = '-'\n",
    "    linewidth = 1 if i != best_robot else 4\n",
    "    ax.plot(body_q_np[:, i, 0], body_q_np[:, i, 1], body_q_np[:, i, 2], marker,\n",
    "            linewidth=linewidth, color=colors[i])\n",
    "ax.set_xlabel('X')\n",
    "ax.set_ylabel('Y')\n",
    "ax.set_zlabel('Z')\n",
    "plt.show()"
   ]
  }
 ],
 "metadata": {
  "kernelspec": {
   "display_name": "Python 3 (ipykernel)",
   "language": "python",
   "name": "python3"
  },
  "language_info": {
   "codemirror_mode": {
    "name": "ipython",
    "version": 3
   },
   "file_extension": ".py",
   "mimetype": "text/x-python",
   "name": "python",
   "nbconvert_exporter": "python",
   "pygments_lexer": "ipython3",
   "version": "3.9.18"
  }
 },
 "nbformat": 4,
 "nbformat_minor": 5
}
