{
 "cells": [
  {
   "metadata": {},
   "cell_type": "code",
   "source": [
    "import sys\n",
    "sys.path.append('../src/')\n",
    "import torch\n",
    "from torch.utils.data import DataLoader\n",
    "from monoforce.models.terrain_encoder.voxelnet import VoxelNet\n",
    "from monoforce.utils import read_yaml, position\n",
    "from monoforce.datasets.rough import ROUGH, rough_seq_paths\n",
    "from monoforce.models.traj_predictor.dphys_config import DPhysConfig"
   ],
   "id": "b7a7dacb0d156951",
   "outputs": [],
   "execution_count": null
  },
  {
   "metadata": {},
   "cell_type": "code",
   "source": [
    "class Data(ROUGH):\n",
    "    def __init__(self, path, lss_cfg, dphys_cfg=DPhysConfig(), is_train=True):\n",
    "        super(Data, self).__init__(path, lss_cfg, dphys_cfg=dphys_cfg, is_train=is_train)\n",
    "\n",
    "    def get_sample(self, i):\n",
    "        points = torch.as_tensor(position(self.get_cloud(i))).T  # (3, N)\n",
    "        terrain = self.get_terrain_height_map(i)  # (2, H, W), stacked (height, labeled mask)\n",
    "        return points, terrain"
   ],
   "id": "dacf9fbbbc81fec7",
   "outputs": [],
   "execution_count": null
  },
  {
   "cell_type": "markdown",
   "source": [
    "## Dataset: ROUGH\n",
    "\n",
    "Data description [../docs/DATA.md](https://github.com/ctu-vras/monoforce/blob/master/monoforce/docs/DATA.md)\n",
    "The sequence used in this example can be downloaded from [Google Drive](https://drive.google.com/drive/folders/1vcZSr4BIv7rBXTcu7YkcbVsKCi5wU6Ci?usp=drive_link)."
   ],
   "metadata": {
    "collapsed": false
   },
   "id": "c5b10fe7792b280e"
  },
  {
   "metadata": {},
   "cell_type": "code",
   "source": [
    "device = torch.device('cuda' if torch.cuda.is_available() else 'cpu')\n",
    "lss_config = read_yaml('../config/lss_cfg.yaml')\n",
    "ds = Data(path=rough_seq_paths[1], lss_cfg=lss_config)\n",
    "print(f'Dataset length: {len(ds)}')"
   ],
   "id": "c933cedfbdfe2793",
   "outputs": [],
   "execution_count": null
  },
  {
   "cell_type": "code",
   "outputs": [],
   "source": [
    "points, terrain = ds[0]\n",
    "\n",
    "print(f'Points shape: {points.shape}')  # (3, N), N is the number of points\n",
    "print(f'Terrain shape: {terrain.shape}')  # (2, H, W), stacked (height, labeled mask)\n",
    "\n",
    "# visualize the point cloud and terrain height map\n",
    "import matplotlib.pyplot as plt\n",
    "%matplotlib inline\n",
    "\n",
    "fig, ax = plt.subplots(1, 3, figsize=(15, 5))\n",
    "points_downsampled = points[:, ::10]\n",
    "ax[0].scatter(points_downsampled[0], points_downsampled[1], s=1)\n",
    "ax[0].set_title('Point cloud')\n",
    "ax[0].set_xlabel('x [m]')\n",
    "ax[0].set_ylabel('y [m]')\n",
    "ax[0].set_xlim(-6.4, 6.4)\n",
    "ax[0].set_ylim(-6.4, 6.4)\n",
    "\n",
    "ax[1].imshow(terrain[0].T, cmap='jet', origin='lower')\n",
    "ax[1].set_title('Terrain height map')\n",
    "\n",
    "ax[2].imshow(terrain[1].T, cmap='gray', origin='lower')\n",
    "ax[2].set_title('Terrain labeled mask')\n",
    "\n",
    "plt.show()"
   ],
   "metadata": {
    "collapsed": false
   },
   "id": "902a89254a7da792",
   "execution_count": null
  },
  {
   "cell_type": "markdown",
   "source": [
    "## Model: VoxelNet\n",
    "\n",
    "The model is using a voxel grid representation of the point cloud as input.\n",
    "This example contains only the point cloud part of the model.\n",
    "\n",
    "Reference: https://hanlab.mit.edu/projects/bevfusion"
   ],
   "metadata": {
    "collapsed": false
   },
   "id": "cf53af02b7c4fa34"
  },
  {
   "metadata": {},
   "cell_type": "code",
   "source": [
    "model = VoxelNet(grid_conf=lss_config['grid_conf'], n_features=16, outC=1)\n",
    "model.to(device)\n",
    "print(f'Number of model parameters: {sum(p.numel() for p in model.parameters())}')"
   ],
   "id": "4de039e6b5a84cba",
   "outputs": [],
   "execution_count": null
  },
  {
   "metadata": {},
   "cell_type": "code",
   "source": [
    "loader = DataLoader(ds, batch_size=2, shuffle=True)\n",
    "\n",
    "points, hm_terrain = next(iter(loader))\n",
    "print(f'Points shape: {points.shape}')  # (B, 3, N), N is the number of points"
   ],
   "id": "6554c35f69bd0e98",
   "outputs": [],
   "execution_count": null
  },
  {
   "metadata": {},
   "cell_type": "code",
   "source": [
    "with torch.inference_mode():\n",
    "    with torch.no_grad():\n",
    "        out = model(points.to(device))\n",
    "        terrain = out['terrain']\n",
    "        print(f'Output shape: {terrain.shape}')  # (B, outC, H, W)"
   ],
   "id": "a7c783dfa2de0bd6",
   "outputs": [],
   "execution_count": null
  },
  {
   "cell_type": "markdown",
   "source": [
    "## Training"
   ],
   "metadata": {
    "collapsed": false
   },
   "id": "507a6ea5114189c"
  },
  {
   "cell_type": "code",
   "outputs": [],
   "source": [
    "from tqdm.auto import tqdm\n",
    "\n",
    "optimizer = torch.optim.Adam(model.parameters(), lr=1e-3)\n",
    "criterion = torch.nn.MSELoss()\n",
    "\n",
    "for epoch in range(10):\n",
    "    epoch_loss = 0\n",
    "    for i, batch in tqdm(enumerate(loader), total=len(loader)):\n",
    "        batch = [b.to(device) for b in batch]\n",
    "        points, hm_terrain = batch\n",
    "\n",
    "        optimizer.zero_grad()\n",
    "\n",
    "        out = model(points)\n",
    "        terrain_pred = out['terrain']\n",
    "        terrain, weights = hm_terrain[:, 0:1], hm_terrain[:, 1:2]\n",
    "        loss = criterion(terrain_pred * weights, terrain * weights)\n",
    "\n",
    "        loss.backward()\n",
    "        optimizer.step()\n",
    "\n",
    "        epoch_loss += loss.item()\n",
    "\n",
    "    epoch_loss /= len(loader)\n",
    "    print(f'Epoch: {epoch}, Loss: {epoch_loss}')"
   ],
   "metadata": {
    "collapsed": false
   },
   "id": "f986c4f76fed0e0e",
   "execution_count": null
  },
  {
   "cell_type": "markdown",
   "source": [
    "## Inference\n",
    "\n",
    "Visualizing an output of the model."
   ],
   "metadata": {
    "collapsed": false
   },
   "id": "5e1c39e7a0fd6ba"
  },
  {
   "cell_type": "code",
   "outputs": [],
   "source": [
    "with torch.inference_mode():\n",
    "    with torch.no_grad():\n",
    "        batch = next(iter(loader))\n",
    "        batch = [b.to(device) for b in batch]\n",
    "        points, hm_terrain = batch\n",
    "        terrain, weights = hm_terrain[:, 0:1], hm_terrain[:, 1:2]\n",
    "        out = model(points)\n",
    "        terrain_pred = out['terrain']\n",
    "        print(f'Predicted terrain shape: {terrain_pred.shape}')  # (B, outC, H, W)\n",
    "        \n",
    "# visualize the output\n",
    "fig, ax = plt.subplots(1, 3, figsize=(15, 5))\n",
    "ax[0].imshow(terrain_pred[0, 0].cpu().numpy().T, cmap='jet', origin='lower', vmin=-1, vmax=1)\n",
    "ax[0].set_title('Prediction')\n",
    "ax[1].imshow(terrain[0, 0].cpu().numpy().T, cmap='jet', origin='lower', vmin=-1, vmax=1)\n",
    "ax[1].set_title('Ground truth')\n",
    "ax[2].imshow(weights[0, 0].cpu().numpy().T, cmap='gray', origin='lower')\n",
    "ax[2].set_title('Weights')\n",
    "plt.show()"
   ],
   "metadata": {
    "collapsed": false
   },
   "id": "59e1166b6cd52a9b",
   "execution_count": null
  }
 ],
 "metadata": {
  "kernelspec": {
   "display_name": "Python 3",
   "language": "python",
   "name": "python3"
  },
  "language_info": {
   "codemirror_mode": {
    "name": "ipython",
    "version": 2
   },
   "file_extension": ".py",
   "mimetype": "text/x-python",
   "name": "python",
   "nbconvert_exporter": "python",
   "pygments_lexer": "ipython2",
   "version": "2.7.6"
  }
 },
 "nbformat": 4,
 "nbformat_minor": 5
}
