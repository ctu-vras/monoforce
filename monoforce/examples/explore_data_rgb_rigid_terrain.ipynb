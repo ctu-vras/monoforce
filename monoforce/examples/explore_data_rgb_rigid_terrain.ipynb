{
 "cells": [
  {
   "metadata": {},
   "cell_type": "markdown",
   "source": [
    "## Explore RobInGas Data\n",
    "\n",
    "We are going to load the RobInGas data and visualize the following data samples:\n",
    "- RGB images\n",
    "- Terrain heightmaps"
   ],
   "id": "53c6a416f8100f1b"
  },
  {
   "metadata": {},
   "cell_type": "code",
   "source": [
    "# add the path to the monoforce package\n",
    "import sys\n",
    "sys.path.append('../src')"
   ],
   "id": "3b9b90ab583a2b71",
   "outputs": [],
   "execution_count": null
  },
  {
   "cell_type": "markdown",
   "source": [
    "### Load RobInGas Data\n",
    "\n",
    "We inherit from the `monoforce.datasets.robingas.RobinGas` dataset to load only the RGB images and the terrain heightmap."
   ],
   "metadata": {
    "collapsed": false
   },
   "id": "befa90d89aba1a75"
  },
  {
   "cell_type": "code",
   "source": [
    "from monoforce.datasets.robingas import RobinGas\n",
    "\n",
    "class Dataset(RobinGas):\n",
    "    \"\"\"\n",
    "    RobInGas dataset for training terrain properties prediction from RGB images.\n",
    "    \n",
    "    Args:\n",
    "        path (str): Path to the RobInGas data sequence.\n",
    "        lss_cfg (dict): Configuration specific to robot sensors (see the LSS [1] paper for more details).\n",
    "        is_train (bool): If True, the dataset is used for training.\n",
    "        \n",
    "    References:\n",
    "        [1] Jonah Philion, Sanja Fidler, Lift, Splat, Shoot: Encoding Images From Arbitrary\n",
    "            Camera Rigs by Implicitly Unprojecting to 3D,\n",
    "            https://arxiv.org/abs/2008.05711\n",
    "    \"\"\"\n",
    "    def __init__(self, path, lss_cfg, is_train=True,):\n",
    "        super(Dataset, self).__init__(path, lss_cfg, is_train=is_train)\n",
    "\n",
    "    def get_sample(self, i):\n",
    "        \"\"\"\n",
    "        Get a sample from the dataset.\n",
    "        Args:\n",
    "            i (int): Index of the sample.\n",
    "        Returns:\n",
    "            tuple: Tuple containing the RGB images and the terrain heightmap.\n",
    "        \"\"\"\n",
    "        imgs = self.get_images_data(i)[0]\n",
    "        terrain = self.get_terrain_height_map(i)\n",
    "        \n",
    "        return imgs, terrain"
   ],
   "metadata": {
    "collapsed": false
   },
   "id": "7261eb7a14a05099",
   "outputs": [],
   "execution_count": null
  },
  {
   "cell_type": "markdown",
   "source": [
    "### Load a Sequence of the RobInGas Data\n",
    "\n",
    "We load a sequence of the RobInGas data for a Specific Robot (e.g., Husky ORU)"
   ],
   "metadata": {
    "collapsed": false
   },
   "id": "f2e8407fa188c873"
  },
  {
   "cell_type": "code",
   "source": [
    "import os\n",
    "from monoforce.utils import read_yaml\n",
    "from monoforce.datasets.robingas import robingas_seq_paths\n",
    "\n",
    "# as data sequence is specific to the robot, we need to load the correct configuration\n",
    "robot = 'husky_oru'\n",
    "lss_cfg_path = f'../config/lss_cfg_{robot}.yaml'\n",
    "lss_cfg = read_yaml(lss_cfg_path)\n",
    "\n",
    "# load the last sequence of the robot data\n",
    "seq_path = robingas_seq_paths[robot][-1]\n",
    "if not os.path.exists(seq_path):\n",
    "    print(f'{seq_path} does not exist. Please download the RobInGas data.')\n",
    "    raise FileNotFoundError(f'{seq_path} does not exist')\n",
    "\n",
    "print('Loading RobInGas data from:', os.path.basename(seq_path))\n",
    "ds = Dataset(seq_path, lss_cfg)\n",
    "print('Number of data samples in the sequence:', len(ds))"
   ],
   "metadata": {
    "collapsed": false
   },
   "id": "d69e803e5a7cb6f0",
   "outputs": [],
   "execution_count": null
  },
  {
   "cell_type": "markdown",
   "source": [
    "### Visualize a Sample of the RobInGas Data"
   ],
   "metadata": {
    "collapsed": false
   },
   "id": "472f24e0c77a6d1"
  },
  {
   "cell_type": "code",
   "source": [
    "# get a sample from the dataset\n",
    "i = 52  # np.random.randint(len(ds))\n",
    "print('Sample index:', i)\n",
    "imgs, terrain = ds[i]\n",
    "print('RGB images shape:', imgs.shape)  # (N, C, H, W), where N is the number of cameras\n",
    "print('Terrain heightmap shape:', terrain.shape)  # (2, H, W), where 2 is the heightmap and the mask of the labeled area"
   ],
   "metadata": {
    "collapsed": false
   },
   "id": "3d66d3669883d217",
   "outputs": [],
   "execution_count": null
  },
  {
   "cell_type": "code",
   "source": [
    "# visualize the RGB images and the terrain heightmap\n",
    "import numpy as np\n",
    "import matplotlib.pyplot as plt\n",
    "from monoforce.models.terrain_encoder.utils import denormalize_img\n",
    "%matplotlib inline\n",
    "\n",
    "grid_res = lss_cfg['grid_conf']['xbound'][2]\n",
    "H, W = terrain.shape[1:]\n",
    "print('Height map grid resolution [m]:', grid_res)\n",
    "print('Height map grid size:', H, W)\n",
    "\n",
    "fig, axs = plt.subplots(1, 2, figsize=(12, 6))\n",
    "img_vis = denormalize_img(imgs[0])\n",
    "axs[0].imshow(img_vis)\n",
    "axs[0].set_title('RGB images')\n",
    "axs[0].axis('off')\n",
    "    \n",
    "axs[1].imshow(terrain[0].T, cmap='jet', vmin=-1, vmax=1, origin='lower')\n",
    "axs[1].set_title('Terrain heightmap')\n",
    "axs[1].set_xlabel('X [m]')\n",
    "axs[1].set_ylabel('Y [m]')\n",
    "\n",
    "# set x and y ticks\n",
    "x_ticks = np.linspace(-H // 2 * grid_res, H // 2 * grid_res, 5)\n",
    "y_ticks = np.linspace(-W // 2 * grid_res, W // 2 * grid_res, 5)\n",
    "axs[1].set_xticks(np.linspace(0, W, len(x_ticks)))\n",
    "axs[1].set_xticklabels([f'{x:.1f}' for x in x_ticks])\n",
    "axs[1].set_yticks(np.linspace(0, H, len(y_ticks)))\n",
    "axs[1].set_yticklabels([f'{y:.1f}' for y in y_ticks]);"
   ],
   "metadata": {
    "collapsed": false
   },
   "id": "b8bee210a79de213",
   "outputs": [],
   "execution_count": null
  },
  {
   "cell_type": "markdown",
   "source": [
    "### (Optional): Visualize the Mask of the Labeled Area and Robot's Trajectory"
   ],
   "metadata": {
    "collapsed": false
   },
   "id": "eef599060a97dd32"
  },
  {
   "cell_type": "code",
   "source": [
    "# let's additionally visualize the mask of the labeled area and robot's trajectory\n",
    "poses = ds.get_traj(i)['poses']\n",
    "print('Robot poses shape:', poses.shape)  # (N, 4, 4), where N is the number of poses\n",
    "\n",
    "x_grid = poses[:, 0, 3] / grid_res + H // 2\n",
    "y_grid = poses[:, 1, 3] / grid_res + W // 2\n",
    "\n",
    "fig, axs = plt.subplots(1, 3, figsize=(18, 6))\n",
    "img_vis = denormalize_img(imgs[0])\n",
    "axs[0].imshow(img_vis)\n",
    "axs[0].set_title('RGB images')\n",
    "axs[0].axis('off')\n",
    "\n",
    "axs[1].imshow(terrain[0].T, cmap='jet', vmin=-1, vmax=1, origin='lower')\n",
    "axs[1].set_title('Terrain heightmap')\n",
    "axs[1].axis('off')\n",
    "\n",
    "axs[2].imshow(terrain[1].T, cmap='gray', origin='lower')\n",
    "axs[2].plot(x_grid, y_grid, 'rx', label='Robot poses')\n",
    "axs[2].set_title('Labeled area')\n",
    "axs[2].axis('off')\n",
    "plt.legend();"
   ],
   "metadata": {
    "collapsed": false
   },
   "id": "9142eff49dfe7911",
   "outputs": [],
   "execution_count": null
  }
 ],
 "metadata": {
  "kernelspec": {
   "display_name": "Python 3",
   "language": "python",
   "name": "python3"
  },
  "language_info": {
   "codemirror_mode": {
    "name": "ipython",
    "version": 2
   },
   "file_extension": ".py",
   "mimetype": "text/x-python",
   "name": "python",
   "nbconvert_exporter": "python",
   "pygments_lexer": "ipython2",
   "version": "2.7.6"
  }
 },
 "nbformat": 4,
 "nbformat_minor": 5
}
